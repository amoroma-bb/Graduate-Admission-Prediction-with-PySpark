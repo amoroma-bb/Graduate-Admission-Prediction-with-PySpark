{
  "nbformat": 4,
  "nbformat_minor": 0,
  "metadata": {
    "colab": {
      "name": "Admission_prediction_with_pyspark_ml.ipynb",
      "provenance": []
    },
    "kernelspec": {
      "name": "python3",
      "display_name": "Python 3"
    }
  },
  "cells": [
    {
      "cell_type": "markdown",
      "metadata": {
        "id": "rZtskxrQyg3e"
      },
      "source": [
        "# TASK 1 : Install Dependencies & Run a SparkSession\n"
      ]
    },
    {
      "cell_type": "code",
      "metadata": {
        "id": "a9huiQF8yfIK",
        "colab": {
          "base_uri": "https://localhost:8080/"
        },
        "outputId": "9accf91e-f50d-4a9a-bfb4-0d9ecd1fc0e4"
      },
      "source": [
        "#install pyspark\n",
        "! pip install pyspark"
      ],
      "execution_count": null,
      "outputs": [
        {
          "output_type": "stream",
          "name": "stdout",
          "text": [
            "Collecting pyspark\n",
            "  Downloading pyspark-3.1.2.tar.gz (212.4 MB)\n",
            "\u001b[K     |████████████████████████████████| 212.4 MB 67 kB/s \n",
            "\u001b[?25hCollecting py4j==0.10.9\n",
            "  Downloading py4j-0.10.9-py2.py3-none-any.whl (198 kB)\n",
            "\u001b[K     |████████████████████████████████| 198 kB 70.9 MB/s \n",
            "\u001b[?25hBuilding wheels for collected packages: pyspark\n",
            "  Building wheel for pyspark (setup.py) ... \u001b[?25l\u001b[?25hdone\n",
            "  Created wheel for pyspark: filename=pyspark-3.1.2-py2.py3-none-any.whl size=212880768 sha256=2c3bad7498f07ee0ed6a768a37e98b5c1dc8ba94a19811b4e259280b0f2a12dd\n",
            "  Stored in directory: /root/.cache/pip/wheels/a5/0a/c1/9561f6fecb759579a7d863dcd846daaa95f598744e71b02c77\n",
            "Successfully built pyspark\n",
            "Installing collected packages: py4j, pyspark\n",
            "Successfully installed py4j-0.10.9 pyspark-3.1.2\n"
          ]
        }
      ]
    },
    {
      "cell_type": "code",
      "metadata": {
        "id": "1wZpO2gxy7Pt",
        "colab": {
          "base_uri": "https://localhost:8080/",
          "height": 339
        },
        "outputId": "f3e9d74c-ff50-4a8b-ed67-3057800c1ecb"
      },
      "source": [
        "#create a sparksession\n",
        "from pyspark.sql import SparkSession\n",
        "spark = SparkSession.builder.appName(\"spark\").getOrCreate()"
      ],
      "execution_count": 1,
      "outputs": [
        {
          "output_type": "error",
          "ename": "ModuleNotFoundError",
          "evalue": "ignored",
          "traceback": [
            "\u001b[0;31m---------------------------------------------------------------------------\u001b[0m",
            "\u001b[0;31mModuleNotFoundError\u001b[0m                       Traceback (most recent call last)",
            "\u001b[0;32m<ipython-input-1-98196d0a5a6b>\u001b[0m in \u001b[0;36m<module>\u001b[0;34m()\u001b[0m\n\u001b[1;32m      1\u001b[0m \u001b[0;31m#create a sparksession\u001b[0m\u001b[0;34m\u001b[0m\u001b[0;34m\u001b[0m\u001b[0;34m\u001b[0m\u001b[0m\n\u001b[0;32m----> 2\u001b[0;31m \u001b[0;32mfrom\u001b[0m \u001b[0mpyspark\u001b[0m\u001b[0;34m.\u001b[0m\u001b[0msql\u001b[0m \u001b[0;32mimport\u001b[0m \u001b[0mSparkSession\u001b[0m\u001b[0;34m\u001b[0m\u001b[0;34m\u001b[0m\u001b[0m\n\u001b[0m\u001b[1;32m      3\u001b[0m \u001b[0mspark\u001b[0m \u001b[0;34m=\u001b[0m \u001b[0mSparkSession\u001b[0m\u001b[0;34m.\u001b[0m\u001b[0mbuilder\u001b[0m\u001b[0;34m.\u001b[0m\u001b[0mappName\u001b[0m\u001b[0;34m(\u001b[0m\u001b[0;34m\"spark\"\u001b[0m\u001b[0;34m)\u001b[0m\u001b[0;34m.\u001b[0m\u001b[0mgetOrCreate\u001b[0m\u001b[0;34m(\u001b[0m\u001b[0;34m)\u001b[0m\u001b[0;34m\u001b[0m\u001b[0;34m\u001b[0m\u001b[0m\n",
            "\u001b[0;31mModuleNotFoundError\u001b[0m: No module named 'pyspark'",
            "",
            "\u001b[0;31m---------------------------------------------------------------------------\u001b[0;32m\nNOTE: If your import is failing due to a missing package, you can\nmanually install dependencies using either !pip or !apt.\n\nTo view examples of installing some common dependencies, click the\n\"Open Examples\" button below.\n\u001b[0;31m---------------------------------------------------------------------------\u001b[0m\n"
          ],
          "errorDetails": {
            "actions": [
              {
                "action": "open_url",
                "actionText": "Open Examples",
                "url": "/notebooks/snippets/importing_libraries.ipynb"
              }
            ]
          }
        }
      ]
    },
    {
      "cell_type": "markdown",
      "metadata": {
        "id": "8t7JFc_My__A"
      },
      "source": [
        "# TASK 2 : Clone & Explore dataset"
      ]
    },
    {
      "cell_type": "code",
      "metadata": {
        "id": "C0oRpI4ezFgc",
        "colab": {
          "base_uri": "https://localhost:8080/"
        },
        "outputId": "d7a81cc5-0872-498f-93c0-bce34ec17d43"
      },
      "source": [
        "#clone the dataset\n",
        "! git clone https://github.com/education454/admission_dataset"
      ],
      "execution_count": null,
      "outputs": [
        {
          "output_type": "stream",
          "name": "stdout",
          "text": [
            "Cloning into 'admission_dataset'...\n",
            "remote: Enumerating objects: 3, done.\u001b[K\n",
            "remote: Counting objects: 100% (3/3), done.\u001b[K\n",
            "remote: Compressing objects: 100% (3/3), done.\u001b[K\n",
            "remote: Total 3 (delta 0), reused 0 (delta 0), pack-reused 0\u001b[K\n",
            "Unpacking objects: 100% (3/3), done.\n"
          ]
        }
      ]
    },
    {
      "cell_type": "code",
      "metadata": {
        "id": "Evfd9ACizers",
        "colab": {
          "base_uri": "https://localhost:8080/"
        },
        "outputId": "c076bea4-c53e-4993-8a75-3c1199bf1f88"
      },
      "source": [
        "#check the presence of dataset\n",
        "! ls"
      ],
      "execution_count": null,
      "outputs": [
        {
          "output_type": "stream",
          "name": "stdout",
          "text": [
            "admission_dataset  sample_data\n"
          ]
        }
      ]
    },
    {
      "cell_type": "code",
      "metadata": {
        "id": "q6sF2NVazjtU"
      },
      "source": [
        "#create a spark dataframe\n",
        "df = spark.read.csv('/content/admission_dataset/Admission_Predict_Ver1.1.csv',header=True,inferSchema=True)"
      ],
      "execution_count": null,
      "outputs": []
    },
    {
      "cell_type": "code",
      "metadata": {
        "id": "cG6UhIUuznfJ",
        "colab": {
          "base_uri": "https://localhost:8080/"
        },
        "outputId": "fb31135c-8035-4bca-d473-720fcc9a60b3"
      },
      "source": [
        "#display dataframe\n",
        "df.show()"
      ],
      "execution_count": null,
      "outputs": [
        {
          "output_type": "stream",
          "name": "stdout",
          "text": [
            "+---------+---------+-----------+-----------------+---+---+----+--------+---------------+\n",
            "|Serial No|GRE Score|TOEFL Score|University Rating|SOP|LOR|CGPA|Research|Chance of Admit|\n",
            "+---------+---------+-----------+-----------------+---+---+----+--------+---------------+\n",
            "|        1|      337|        118|                4|4.5|4.5|9.65|       1|           0.92|\n",
            "|        2|      324|        107|                4|4.0|4.5|8.87|       1|           0.76|\n",
            "|        3|      316|        104|                3|3.0|3.5| 8.0|       1|           0.72|\n",
            "|        4|      322|        110|                3|3.5|2.5|8.67|       1|            0.8|\n",
            "|        5|      314|        103|                2|2.0|3.0|8.21|       0|           0.65|\n",
            "|        6|      330|        115|                5|4.5|3.0|9.34|       1|            0.9|\n",
            "|        7|      321|        109|                3|3.0|4.0| 8.2|       1|           0.75|\n",
            "|        8|      308|        101|                2|3.0|4.0| 7.9|       0|           0.68|\n",
            "|        9|      302|        102|                1|2.0|1.5| 8.0|       0|            0.5|\n",
            "|       10|      323|        108|                3|3.5|3.0| 8.6|       0|           0.45|\n",
            "|       11|      325|        106|                3|3.5|4.0| 8.4|       1|           0.52|\n",
            "|       12|      327|        111|                4|4.0|4.5| 9.0|       1|           0.84|\n",
            "|       13|      328|        112|                4|4.0|4.5| 9.1|       1|           0.78|\n",
            "|       14|      307|        109|                3|4.0|3.0| 8.0|       1|           0.62|\n",
            "|       15|      311|        104|                3|3.5|2.0| 8.2|       1|           0.61|\n",
            "|       16|      314|        105|                3|3.5|2.5| 8.3|       0|           0.54|\n",
            "|       17|      317|        107|                3|4.0|3.0| 8.7|       0|           0.66|\n",
            "|       18|      319|        106|                3|4.0|3.0| 8.0|       1|           0.65|\n",
            "|       19|      318|        110|                3|4.0|3.0| 8.8|       0|           0.63|\n",
            "|       20|      303|        102|                3|3.5|3.0| 8.5|       0|           0.62|\n",
            "+---------+---------+-----------+-----------------+---+---+----+--------+---------------+\n",
            "only showing top 20 rows\n",
            "\n"
          ]
        }
      ]
    },
    {
      "cell_type": "code",
      "metadata": {
        "id": "tgtWocArzqVR",
        "colab": {
          "base_uri": "https://localhost:8080/"
        },
        "outputId": "a60da1fa-d022-432d-ee50-a93635e6d33d"
      },
      "source": [
        "#get the no.of rows & columns\n",
        "print(df.count(),len(df.columns))"
      ],
      "execution_count": null,
      "outputs": [
        {
          "output_type": "stream",
          "name": "stdout",
          "text": [
            "500 9\n"
          ]
        }
      ]
    },
    {
      "cell_type": "code",
      "metadata": {
        "id": "OWQTe006zt7O",
        "colab": {
          "base_uri": "https://localhost:8080/"
        },
        "outputId": "41717797-85c9-42a1-afff-2dcf09cae44f"
      },
      "source": [
        "#print schema \n",
        "df.printSchema()"
      ],
      "execution_count": null,
      "outputs": [
        {
          "output_type": "stream",
          "name": "stdout",
          "text": [
            "root\n",
            " |-- Serial No: integer (nullable = true)\n",
            " |-- GRE Score: integer (nullable = true)\n",
            " |-- TOEFL Score: integer (nullable = true)\n",
            " |-- University Rating: integer (nullable = true)\n",
            " |-- SOP: double (nullable = true)\n",
            " |-- LOR: double (nullable = true)\n",
            " |-- CGPA: double (nullable = true)\n",
            " |-- Research: integer (nullable = true)\n",
            " |-- Chance of Admit: double (nullable = true)\n",
            "\n"
          ]
        }
      ]
    },
    {
      "cell_type": "code",
      "metadata": {
        "id": "locEx8HDz264",
        "colab": {
          "base_uri": "https://localhost:8080/"
        },
        "outputId": "e275c2ae-b003-4917-8ab4-9989017635bb"
      },
      "source": [
        "#get the summary statistics\n",
        "df.describe().show()"
      ],
      "execution_count": null,
      "outputs": [
        {
          "output_type": "stream",
          "name": "stdout",
          "text": [
            "+-------+-----------------+------------------+-----------------+-----------------+------------------+------------------+------------------+------------------+-------------------+\n",
            "|summary|        Serial No|         GRE Score|      TOEFL Score|University Rating|               SOP|               LOR|              CGPA|          Research|    Chance of Admit|\n",
            "+-------+-----------------+------------------+-----------------+-----------------+------------------+------------------+------------------+------------------+-------------------+\n",
            "|  count|              500|               500|              500|              500|               500|               500|               500|               500|                500|\n",
            "|   mean|            250.5|           316.472|          107.192|            3.114|             3.374|             3.484| 8.576440000000003|              0.56| 0.7217399999999996|\n",
            "| stddev|144.4818327679989|11.295148372354712|6.081867659564538|1.143511800759815|0.9910036207566072|0.9254495738978191|0.6048128003332054|0.4968840786090358|0.14114040395030228|\n",
            "|    min|                1|               290|               92|                1|               1.0|               1.0|               6.8|                 0|               0.34|\n",
            "|    max|              500|               340|              120|                5|               5.0|               5.0|              9.92|                 1|               0.97|\n",
            "+-------+-----------------+------------------+-----------------+-----------------+------------------+------------------+------------------+------------------+-------------------+\n",
            "\n"
          ]
        }
      ]
    },
    {
      "cell_type": "markdown",
      "metadata": {
        "id": "6uDdoEKsz6h6"
      },
      "source": [
        "# TASK 3 : Data Cleaning"
      ]
    },
    {
      "cell_type": "code",
      "metadata": {
        "id": "o6gJAFo30G9s"
      },
      "source": [
        "#drop the unnecessary column\n",
        "df = df.drop('Serial No')"
      ],
      "execution_count": null,
      "outputs": []
    },
    {
      "cell_type": "code",
      "metadata": {
        "id": "_lOPoDVk0OFH",
        "colab": {
          "base_uri": "https://localhost:8080/"
        },
        "outputId": "ab638b97-7210-4f93-f8c2-b298ce7b147e"
      },
      "source": [
        "#display the dataframe\n",
        "df.show()"
      ],
      "execution_count": null,
      "outputs": [
        {
          "output_type": "stream",
          "name": "stdout",
          "text": [
            "+---------+-----------+-----------------+---+---+----+--------+---------------+\n",
            "|GRE Score|TOEFL Score|University Rating|SOP|LOR|CGPA|Research|Chance of Admit|\n",
            "+---------+-----------+-----------------+---+---+----+--------+---------------+\n",
            "|      337|        118|                4|4.5|4.5|9.65|       1|           0.92|\n",
            "|      324|        107|                4|4.0|4.5|8.87|       1|           0.76|\n",
            "|      316|        104|                3|3.0|3.5| 8.0|       1|           0.72|\n",
            "|      322|        110|                3|3.5|2.5|8.67|       1|            0.8|\n",
            "|      314|        103|                2|2.0|3.0|8.21|       0|           0.65|\n",
            "|      330|        115|                5|4.5|3.0|9.34|       1|            0.9|\n",
            "|      321|        109|                3|3.0|4.0| 8.2|       1|           0.75|\n",
            "|      308|        101|                2|3.0|4.0| 7.9|       0|           0.68|\n",
            "|      302|        102|                1|2.0|1.5| 8.0|       0|            0.5|\n",
            "|      323|        108|                3|3.5|3.0| 8.6|       0|           0.45|\n",
            "|      325|        106|                3|3.5|4.0| 8.4|       1|           0.52|\n",
            "|      327|        111|                4|4.0|4.5| 9.0|       1|           0.84|\n",
            "|      328|        112|                4|4.0|4.5| 9.1|       1|           0.78|\n",
            "|      307|        109|                3|4.0|3.0| 8.0|       1|           0.62|\n",
            "|      311|        104|                3|3.5|2.0| 8.2|       1|           0.61|\n",
            "|      314|        105|                3|3.5|2.5| 8.3|       0|           0.54|\n",
            "|      317|        107|                3|4.0|3.0| 8.7|       0|           0.66|\n",
            "|      319|        106|                3|4.0|3.0| 8.0|       1|           0.65|\n",
            "|      318|        110|                3|4.0|3.0| 8.8|       0|           0.63|\n",
            "|      303|        102|                3|3.5|3.0| 8.5|       0|           0.62|\n",
            "+---------+-----------+-----------------+---+---+----+--------+---------------+\n",
            "only showing top 20 rows\n",
            "\n"
          ]
        }
      ]
    },
    {
      "cell_type": "code",
      "metadata": {
        "id": "Au73oUZJ0Qv7",
        "colab": {
          "base_uri": "https://localhost:8080/"
        },
        "outputId": "b47a047b-800f-45df-e6de-ed3ce56b7980"
      },
      "source": [
        "#check for null values\n",
        "for i in df.columns:\n",
        "  print(i+\":\",df[df[i].isNull()].count())"
      ],
      "execution_count": null,
      "outputs": [
        {
          "output_type": "stream",
          "name": "stdout",
          "text": [
            "GRE Score: 0\n",
            "TOEFL Score: 0\n",
            "University Rating: 0\n",
            "SOP: 0\n",
            "LOR: 0\n",
            "CGPA: 0\n",
            "Research: 0\n",
            "Chance of Admit: 0\n"
          ]
        }
      ]
    },
    {
      "cell_type": "markdown",
      "metadata": {
        "id": "prkDI9Dc0SoH"
      },
      "source": [
        "# TASK 4 : Correlation Analysis & Feature Selection"
      ]
    },
    {
      "cell_type": "code",
      "metadata": {
        "id": "eFhxSRRj0Ypa",
        "colab": {
          "base_uri": "https://localhost:8080/"
        },
        "outputId": "809ca0a1-4543-46bc-ea6d-5ae94037b4ae"
      },
      "source": [
        "# correlation analysis\n",
        "for col in df.columns:\n",
        "  print('Correlation to chance of admit col for {} is {}'.format(col,df.stat.corr('Chance of Admit',col)))"
      ],
      "execution_count": null,
      "outputs": [
        {
          "output_type": "stream",
          "name": "stdout",
          "text": [
            "Correlation to chance of admit col for GRE Score is 0.8103506354632598\n",
            "Correlation to chance of admit col for TOEFL Score is 0.7922276143050823\n",
            "Correlation to chance of admit col for University Rating is 0.6901323687886892\n",
            "Correlation to chance of admit col for SOP is 0.6841365241316723\n",
            "Correlation to chance of admit col for LOR is 0.6453645135280112\n",
            "Correlation to chance of admit col for CGPA is 0.882412574904574\n",
            "Correlation to chance of admit col for Research is 0.5458710294711379\n",
            "Correlation to chance of admit col for Chance of Admit is 1.0\n"
          ]
        }
      ]
    },
    {
      "cell_type": "code",
      "metadata": {
        "id": "UXNOknvo0dV2"
      },
      "source": [
        "# feature selection\n",
        "from pyspark.ml.feature import  VectorAssembler\n",
        "assembler = VectorAssembler(inputCols=['GRE Score','TOEFL Score','CGPA'],outputCol='features')"
      ],
      "execution_count": null,
      "outputs": []
    },
    {
      "cell_type": "code",
      "metadata": {
        "id": "JOzlkPaz0ibL",
        "colab": {
          "base_uri": "https://localhost:8080/"
        },
        "outputId": "3e0f0984-a191-42c2-fa61-8ae0d284fb04"
      },
      "source": [
        "#display dataframe\n",
        "output_data = assembler.transform(df)\n",
        "output_data.show()"
      ],
      "execution_count": null,
      "outputs": [
        {
          "output_type": "stream",
          "name": "stdout",
          "text": [
            "+---------+-----------+-----------------+---+---+----+--------+---------------+------------------+\n",
            "|GRE Score|TOEFL Score|University Rating|SOP|LOR|CGPA|Research|Chance of Admit|          features|\n",
            "+---------+-----------+-----------------+---+---+----+--------+---------------+------------------+\n",
            "|      337|        118|                4|4.5|4.5|9.65|       1|           0.92|[337.0,118.0,9.65]|\n",
            "|      324|        107|                4|4.0|4.5|8.87|       1|           0.76|[324.0,107.0,8.87]|\n",
            "|      316|        104|                3|3.0|3.5| 8.0|       1|           0.72| [316.0,104.0,8.0]|\n",
            "|      322|        110|                3|3.5|2.5|8.67|       1|            0.8|[322.0,110.0,8.67]|\n",
            "|      314|        103|                2|2.0|3.0|8.21|       0|           0.65|[314.0,103.0,8.21]|\n",
            "|      330|        115|                5|4.5|3.0|9.34|       1|            0.9|[330.0,115.0,9.34]|\n",
            "|      321|        109|                3|3.0|4.0| 8.2|       1|           0.75| [321.0,109.0,8.2]|\n",
            "|      308|        101|                2|3.0|4.0| 7.9|       0|           0.68| [308.0,101.0,7.9]|\n",
            "|      302|        102|                1|2.0|1.5| 8.0|       0|            0.5| [302.0,102.0,8.0]|\n",
            "|      323|        108|                3|3.5|3.0| 8.6|       0|           0.45| [323.0,108.0,8.6]|\n",
            "|      325|        106|                3|3.5|4.0| 8.4|       1|           0.52| [325.0,106.0,8.4]|\n",
            "|      327|        111|                4|4.0|4.5| 9.0|       1|           0.84| [327.0,111.0,9.0]|\n",
            "|      328|        112|                4|4.0|4.5| 9.1|       1|           0.78| [328.0,112.0,9.1]|\n",
            "|      307|        109|                3|4.0|3.0| 8.0|       1|           0.62| [307.0,109.0,8.0]|\n",
            "|      311|        104|                3|3.5|2.0| 8.2|       1|           0.61| [311.0,104.0,8.2]|\n",
            "|      314|        105|                3|3.5|2.5| 8.3|       0|           0.54| [314.0,105.0,8.3]|\n",
            "|      317|        107|                3|4.0|3.0| 8.7|       0|           0.66| [317.0,107.0,8.7]|\n",
            "|      319|        106|                3|4.0|3.0| 8.0|       1|           0.65| [319.0,106.0,8.0]|\n",
            "|      318|        110|                3|4.0|3.0| 8.8|       0|           0.63| [318.0,110.0,8.8]|\n",
            "|      303|        102|                3|3.5|3.0| 8.5|       0|           0.62| [303.0,102.0,8.5]|\n",
            "+---------+-----------+-----------------+---+---+----+--------+---------------+------------------+\n",
            "only showing top 20 rows\n",
            "\n"
          ]
        }
      ]
    },
    {
      "cell_type": "markdown",
      "metadata": {
        "id": "l6FucLAC0r5I"
      },
      "source": [
        "# TASK 5 : Build the Linear Regression Model"
      ]
    },
    {
      "cell_type": "code",
      "metadata": {
        "id": "RMYN_8jJ0wDR"
      },
      "source": [
        "#import Linearregression and create final data\n",
        "from pyspark.ml.regression import LinearRegression\n",
        "final_data = output_data.select('features','Chance of Admit')"
      ],
      "execution_count": null,
      "outputs": []
    },
    {
      "cell_type": "code",
      "metadata": {
        "id": "MNSEfLCp09oO",
        "colab": {
          "base_uri": "https://localhost:8080/"
        },
        "outputId": "5cd02f6d-e1c5-4b61-b145-9b1fddda11c9"
      },
      "source": [
        "#print schema of final data\n",
        "final_data.printSchema()"
      ],
      "execution_count": null,
      "outputs": [
        {
          "output_type": "stream",
          "name": "stdout",
          "text": [
            "root\n",
            " |-- features: vector (nullable = true)\n",
            " |-- Chance of Admit: double (nullable = true)\n",
            "\n"
          ]
        }
      ]
    },
    {
      "cell_type": "code",
      "metadata": {
        "id": "vOJylIiS1Dre"
      },
      "source": [
        "#split the dataset into training and testing set\n",
        "train, test = final_data.randomSplit([0.7,0.3])"
      ],
      "execution_count": null,
      "outputs": []
    },
    {
      "cell_type": "code",
      "metadata": {
        "id": "xoxFzm4A1Hee"
      },
      "source": [
        "#build & train the model\n",
        "models = LinearRegression(featuresCol='features',labelCol='Chance of Admit')\n",
        "model = models.fit(train)"
      ],
      "execution_count": null,
      "outputs": []
    },
    {
      "cell_type": "code",
      "metadata": {
        "id": "DDCZ9uvA1QLf",
        "colab": {
          "base_uri": "https://localhost:8080/"
        },
        "outputId": "83d54124-a647-4003-f99a-caa433364027"
      },
      "source": [
        "#get coefficients & intercept\n",
        "print('coefficients:',model.coefficients)\n",
        "print('intercept:',model.intercept)"
      ],
      "execution_count": null,
      "outputs": [
        {
          "output_type": "stream",
          "name": "stdout",
          "text": [
            "coefficients: [0.0022282365642963572,0.0032504708231776602,0.14435710150823036]\n",
            "intercept: -1.568357845468627\n"
          ]
        }
      ]
    },
    {
      "cell_type": "code",
      "metadata": {
        "id": "bO6Duj1l1YJX"
      },
      "source": [
        "#get summary of the model\n",
        "summary = model.summary"
      ],
      "execution_count": null,
      "outputs": []
    },
    {
      "cell_type": "code",
      "metadata": {
        "id": "ebi9LxFS1aBJ",
        "colab": {
          "base_uri": "https://localhost:8080/"
        },
        "outputId": "c05cb390-aad7-453e-87f1-7b49cafd978b"
      },
      "source": [
        "#print the rmse & r2 score\n",
        "print('RMSE',summary.rootMeanSquaredError)\n",
        "print('r2 score',summary.r2)"
      ],
      "execution_count": null,
      "outputs": [
        {
          "output_type": "stream",
          "name": "stdout",
          "text": [
            "RMSE 0.06526334472783332\n",
            "r2 score 0.7890025039273493\n"
          ]
        }
      ]
    },
    {
      "cell_type": "markdown",
      "metadata": {
        "id": "b5lTskfK1eKV"
      },
      "source": [
        "# TASK 6 : Evaluate & Save the Model"
      ]
    },
    {
      "cell_type": "code",
      "metadata": {
        "id": "l0TAwvGP1noC"
      },
      "source": [
        "#transform on the test data\n",
        "predictions = model.transform(test)"
      ],
      "execution_count": null,
      "outputs": []
    },
    {
      "cell_type": "code",
      "metadata": {
        "id": "T_DixZ6f1nvP",
        "colab": {
          "base_uri": "https://localhost:8080/"
        },
        "outputId": "b9e9276b-4bb5-486a-981c-504b492ef1c7"
      },
      "source": [
        "#display the predictions\n",
        "predictions.show(20)"
      ],
      "execution_count": null,
      "outputs": [
        {
          "output_type": "stream",
          "name": "stdout",
          "text": [
            "+------------------+---------------+-------------------+\n",
            "|          features|Chance of Admit|         prediction|\n",
            "+------------------+---------------+-------------------+\n",
            "|  [293.0,97.0,7.8]|           0.64| 0.5257965294826354|\n",
            "| [294.0,93.0,7.36]|           0.46| 0.4515057580905999|\n",
            "| [294.0,95.0,7.64]|           0.49| 0.4984266881592594|\n",
            "|  [295.0,93.0,7.2]|           0.46|0.43063685841357935|\n",
            "| [297.0,98.0,7.67]|           0.59| 0.5191935233669283|\n",
            "|[297.0,101.0,7.67]|           0.57| 0.5289449358364615|\n",
            "| [298.0,92.0,7.88]|           0.51| 0.5322339263088873|\n",
            "|  [298.0,98.0,7.5]|           0.44|0.49688105267482574|\n",
            "|[299.0,100.0,7.42]|           0.42|0.49406166276481867|\n",
            "|[299.0,100.0,7.88]|           0.51| 0.5604659294586052|\n",
            "|[299.0,100.0,7.88]|           0.68| 0.5604659294586052|\n",
            "|[299.0,100.0,7.89]|           0.59| 0.5619095004736872|\n",
            "| [300.0,98.0,8.02]|           0.61| 0.5764032185876984|\n",
            "| [300.0,99.0,8.01]|           0.58| 0.5782101183957933|\n",
            "|[300.0,100.0,8.26]|           0.62| 0.6175498645960287|\n",
            "|[300.0,100.0,8.66]|           0.64| 0.6752927051993212|\n",
            "|[300.0,101.0,7.88]|           0.59| 0.5659446368460792|\n",
            "| [301.0,96.0,7.56]|           0.54| 0.5057262468118531|\n",
            "| [301.0,97.0,7.88]|           0.44| 0.5551709901176649|\n",
            "|[302.0,101.0,7.96]|           0.46| 0.5819496780953302|\n",
            "+------------------+---------------+-------------------+\n",
            "only showing top 20 rows\n",
            "\n"
          ]
        }
      ]
    },
    {
      "cell_type": "code",
      "metadata": {
        "id": "vzxDnudZ1n3n",
        "colab": {
          "base_uri": "https://localhost:8080/"
        },
        "outputId": "9107a195-7612-4ab7-80dc-1b556b3cadb9"
      },
      "source": [
        "#evaluate the model \n",
        "from pyspark.ml.evaluation import RegressionEvaluator\n",
        "evaluator = RegressionEvaluator(predictionCol='prediction',labelCol='Chance of Admit',metricName='r2')\n",
        "print('r2 on the test data',evaluator.evaluate(predictions))"
      ],
      "execution_count": null,
      "outputs": [
        {
          "output_type": "stream",
          "name": "stdout",
          "text": [
            "r2 on the test data 0.8454061103659889\n"
          ]
        }
      ]
    },
    {
      "cell_type": "code",
      "metadata": {
        "id": "WEeyiruX1n_I"
      },
      "source": [
        "#save the model\n",
        "model.save('model')"
      ],
      "execution_count": null,
      "outputs": []
    },
    {
      "cell_type": "code",
      "metadata": {
        "id": "PK48FYRd2CMJ"
      },
      "source": [
        "#load the model\n",
        "from pyspark.ml.regression import LinearRegressionModel\n",
        "model = LinearRegressionModel.load('model')"
      ],
      "execution_count": null,
      "outputs": []
    },
    {
      "cell_type": "code",
      "metadata": {
        "id": "KiCTW9PtqHB5"
      },
      "source": [
        ""
      ],
      "execution_count": null,
      "outputs": []
    }
  ]
}